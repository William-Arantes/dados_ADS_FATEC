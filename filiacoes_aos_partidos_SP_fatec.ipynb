{
  "nbformat": 4,
  "nbformat_minor": 0,
  "metadata": {
    "colab": {
      "name": "filiacoes_aos_partidos_SP_fatec.ipynb",
      "provenance": [],
      "mount_file_id": "1E8gfE-2zqgphAuvRIDzSQZjNoIzCFAAI",
      "authorship_tag": "ABX9TyO9bJudlB/547n1tkGO7hZE",
      "include_colab_link": true
    },
    "kernelspec": {
      "name": "python3",
      "display_name": "Python 3"
    }
  },
  "cells": [
    {
      "cell_type": "markdown",
      "metadata": {
        "id": "view-in-github",
        "colab_type": "text"
      },
      "source": [
        "<a href=\"https://colab.research.google.com/github/William-Arantes/dados_ADS_FATEC/blob/main/filiacoes_aos_partidos_SP_fatec.ipynb\" target=\"_parent\"><img src=\"https://colab.research.google.com/assets/colab-badge.svg\" alt=\"Open In Colab\"/></a>"
      ]
    },
    {
      "cell_type": "markdown",
      "metadata": {
        "id": "YS-9fm4OmGyr"
      },
      "source": [
        "**TEMA:** Filiações Partidárias no município de São Paulo \n",
        "entre o ano de 2016 e 2020.\n",
        "\n",
        "**CURSO:** Análise e Desenvolvimento de sistemas.\n",
        "\n",
        "**ALUNO:** William Souza Arantes\n",
        "\n",
        "**PROFESSOR:** Fernando Masanori\n"
      ]
    },
    {
      "cell_type": "code",
      "metadata": {
        "colab": {
          "base_uri": "https://localhost:8080/"
        },
        "id": "7_Kf4IzRAXQ1",
        "outputId": "66e2ccde-4605-4898-b39b-0d0f66e119c2"
      },
      "source": [
        "pip install Counter"
      ],
      "execution_count": 16,
      "outputs": [
        {
          "output_type": "stream",
          "text": [
            "Requirement already satisfied: Counter in /usr/local/lib/python3.6/dist-packages (1.0.0)\n"
          ],
          "name": "stdout"
        }
      ]
    },
    {
      "cell_type": "code",
      "metadata": {
        "id": "6qJLlFEeG6kt"
      },
      "source": [
        "#importando as bibliotecas (OBS: No Google Colab elas já estão instaladas)\n",
        "import pandas as pd\n",
        "import matplotlib.pyplot as plt\n",
        "import seaborn as sea \n",
        "import numpy as np"
      ],
      "execution_count": 2,
      "outputs": []
    },
    {
      "cell_type": "code",
      "metadata": {
        "id": "UGQaBcenJGcf",
        "colab": {
          "base_uri": "https://localhost:8080/",
          "height": 415
        },
        "outputId": "bf7c53eb-cb24-4df2-fab1-3f1c73f6d22a"
      },
      "source": [
        "#Importando os dados principais do ano de 2016\n",
        "dados_SP_2016 = pd.read_csv('/content/drive/MyDrive/FATEC/consulta_cand_2016_SP.csv',sep=';',encoding='latin-1',usecols = ['NM_UE','SG_PARTIDO','DS_SITUACAO_CANDIDATURA'])\n",
        "dados_SP_2016"
      ],
      "execution_count": 3,
      "outputs": [
        {
          "output_type": "execute_result",
          "data": {
            "text/html": [
              "<div>\n",
              "<style scoped>\n",
              "    .dataframe tbody tr th:only-of-type {\n",
              "        vertical-align: middle;\n",
              "    }\n",
              "\n",
              "    .dataframe tbody tr th {\n",
              "        vertical-align: top;\n",
              "    }\n",
              "\n",
              "    .dataframe thead th {\n",
              "        text-align: right;\n",
              "    }\n",
              "</style>\n",
              "<table border=\"1\" class=\"dataframe\">\n",
              "  <thead>\n",
              "    <tr style=\"text-align: right;\">\n",
              "      <th></th>\n",
              "      <th>NM_UE</th>\n",
              "      <th>DS_SITUACAO_CANDIDATURA</th>\n",
              "      <th>SG_PARTIDO</th>\n",
              "    </tr>\n",
              "  </thead>\n",
              "  <tbody>\n",
              "    <tr>\n",
              "      <th>0</th>\n",
              "      <td>SÃO JOÃO DO PAU D'ALHO</td>\n",
              "      <td>APTO</td>\n",
              "      <td>PV</td>\n",
              "    </tr>\n",
              "    <tr>\n",
              "      <th>1</th>\n",
              "      <td>SÃO SEBASTIÃO DA GRAMA</td>\n",
              "      <td>APTO</td>\n",
              "      <td>PR</td>\n",
              "    </tr>\n",
              "    <tr>\n",
              "      <th>2</th>\n",
              "      <td>SÃO PAULO</td>\n",
              "      <td>APTO</td>\n",
              "      <td>PTB</td>\n",
              "    </tr>\n",
              "    <tr>\n",
              "      <th>3</th>\n",
              "      <td>ARARAQUARA</td>\n",
              "      <td>APTO</td>\n",
              "      <td>PTB</td>\n",
              "    </tr>\n",
              "    <tr>\n",
              "      <th>4</th>\n",
              "      <td>SANTOS</td>\n",
              "      <td>APTO</td>\n",
              "      <td>PV</td>\n",
              "    </tr>\n",
              "    <tr>\n",
              "      <th>...</th>\n",
              "      <td>...</td>\n",
              "      <td>...</td>\n",
              "      <td>...</td>\n",
              "    </tr>\n",
              "    <tr>\n",
              "      <th>86774</th>\n",
              "      <td>SANTA CRUZ DA CONCEIÇÃO</td>\n",
              "      <td>APTO</td>\n",
              "      <td>PMDB</td>\n",
              "    </tr>\n",
              "    <tr>\n",
              "      <th>86775</th>\n",
              "      <td>SANTO ANTÔNIO DE POSSE</td>\n",
              "      <td>APTO</td>\n",
              "      <td>PRB</td>\n",
              "    </tr>\n",
              "    <tr>\n",
              "      <th>86776</th>\n",
              "      <td>TORRE DE PEDRA</td>\n",
              "      <td>APTO</td>\n",
              "      <td>PPS</td>\n",
              "    </tr>\n",
              "    <tr>\n",
              "      <th>86777</th>\n",
              "      <td>SÃO CAETANO DO SUL</td>\n",
              "      <td>APTO</td>\n",
              "      <td>PSDB</td>\n",
              "    </tr>\n",
              "    <tr>\n",
              "      <th>86778</th>\n",
              "      <td>PAULÍNIA</td>\n",
              "      <td>APTO</td>\n",
              "      <td>PSOL</td>\n",
              "    </tr>\n",
              "  </tbody>\n",
              "</table>\n",
              "<p>86779 rows × 3 columns</p>\n",
              "</div>"
            ],
            "text/plain": [
              "                         NM_UE DS_SITUACAO_CANDIDATURA SG_PARTIDO\n",
              "0       SÃO JOÃO DO PAU D'ALHO                    APTO         PV\n",
              "1       SÃO SEBASTIÃO DA GRAMA                    APTO         PR\n",
              "2                    SÃO PAULO                    APTO        PTB\n",
              "3                   ARARAQUARA                    APTO        PTB\n",
              "4                       SANTOS                    APTO         PV\n",
              "...                        ...                     ...        ...\n",
              "86774  SANTA CRUZ DA CONCEIÇÃO                    APTO       PMDB\n",
              "86775   SANTO ANTÔNIO DE POSSE                    APTO        PRB\n",
              "86776           TORRE DE PEDRA                    APTO        PPS\n",
              "86777       SÃO CAETANO DO SUL                    APTO       PSDB\n",
              "86778                 PAULÍNIA                    APTO       PSOL\n",
              "\n",
              "[86779 rows x 3 columns]"
            ]
          },
          "metadata": {
            "tags": []
          },
          "execution_count": 3
        }
      ]
    },
    {
      "cell_type": "code",
      "metadata": {
        "colab": {
          "base_uri": "https://localhost:8080/",
          "height": 415
        },
        "id": "PVzt_xQygB_k",
        "outputId": "79d48dff-eae0-44d2-ab98-e50d367aa8bf"
      },
      "source": [
        "#Importando os dados principais do ano de 2020\n",
        "dados_SP_2020 = pd.read_csv('/content/drive/MyDrive/FATEC/consulta_cand_2020_SP.csv',sep=';',encoding='latin-1',usecols = ['NM_UE','SG_PARTIDO','DS_SITUACAO_CANDIDATURA'])\n",
        "dados_SP_2020"
      ],
      "execution_count": 4,
      "outputs": [
        {
          "output_type": "execute_result",
          "data": {
            "text/html": [
              "<div>\n",
              "<style scoped>\n",
              "    .dataframe tbody tr th:only-of-type {\n",
              "        vertical-align: middle;\n",
              "    }\n",
              "\n",
              "    .dataframe tbody tr th {\n",
              "        vertical-align: top;\n",
              "    }\n",
              "\n",
              "    .dataframe thead th {\n",
              "        text-align: right;\n",
              "    }\n",
              "</style>\n",
              "<table border=\"1\" class=\"dataframe\">\n",
              "  <thead>\n",
              "    <tr style=\"text-align: right;\">\n",
              "      <th></th>\n",
              "      <th>NM_UE</th>\n",
              "      <th>DS_SITUACAO_CANDIDATURA</th>\n",
              "      <th>SG_PARTIDO</th>\n",
              "    </tr>\n",
              "  </thead>\n",
              "  <tbody>\n",
              "    <tr>\n",
              "      <th>0</th>\n",
              "      <td>SUMARÉ</td>\n",
              "      <td>APTO</td>\n",
              "      <td>PSD</td>\n",
              "    </tr>\n",
              "    <tr>\n",
              "      <th>1</th>\n",
              "      <td>JUQUIÁ</td>\n",
              "      <td>INAPTO</td>\n",
              "      <td>PSD</td>\n",
              "    </tr>\n",
              "    <tr>\n",
              "      <th>2</th>\n",
              "      <td>ITAQUAQUECETUBA</td>\n",
              "      <td>INAPTO</td>\n",
              "      <td>REPUBLICANOS</td>\n",
              "    </tr>\n",
              "    <tr>\n",
              "      <th>3</th>\n",
              "      <td>SÃO JOSÉ DO RIO PRETO</td>\n",
              "      <td>INAPTO</td>\n",
              "      <td>PTB</td>\n",
              "    </tr>\n",
              "    <tr>\n",
              "      <th>4</th>\n",
              "      <td>GLICÉRIO</td>\n",
              "      <td>APTO</td>\n",
              "      <td>PODE</td>\n",
              "    </tr>\n",
              "    <tr>\n",
              "      <th>...</th>\n",
              "      <td>...</td>\n",
              "      <td>...</td>\n",
              "      <td>...</td>\n",
              "    </tr>\n",
              "    <tr>\n",
              "      <th>93762</th>\n",
              "      <td>CAMPINAS</td>\n",
              "      <td>APTO</td>\n",
              "      <td>REPUBLICANOS</td>\n",
              "    </tr>\n",
              "    <tr>\n",
              "      <th>93763</th>\n",
              "      <td>CAJATI</td>\n",
              "      <td>APTO</td>\n",
              "      <td>PTB</td>\n",
              "    </tr>\n",
              "    <tr>\n",
              "      <th>93764</th>\n",
              "      <td>SANTA LÚCIA</td>\n",
              "      <td>APTO</td>\n",
              "      <td>PSDB</td>\n",
              "    </tr>\n",
              "    <tr>\n",
              "      <th>93765</th>\n",
              "      <td>SUD MENNUCCI</td>\n",
              "      <td>APTO</td>\n",
              "      <td>REPUBLICANOS</td>\n",
              "    </tr>\n",
              "    <tr>\n",
              "      <th>93766</th>\n",
              "      <td>MORUNGABA</td>\n",
              "      <td>APTO</td>\n",
              "      <td>DEM</td>\n",
              "    </tr>\n",
              "  </tbody>\n",
              "</table>\n",
              "<p>93767 rows × 3 columns</p>\n",
              "</div>"
            ],
            "text/plain": [
              "                       NM_UE DS_SITUACAO_CANDIDATURA    SG_PARTIDO\n",
              "0                     SUMARÉ                    APTO           PSD\n",
              "1                     JUQUIÁ                  INAPTO           PSD\n",
              "2            ITAQUAQUECETUBA                  INAPTO  REPUBLICANOS\n",
              "3      SÃO JOSÉ DO RIO PRETO                  INAPTO           PTB\n",
              "4                   GLICÉRIO                    APTO          PODE\n",
              "...                      ...                     ...           ...\n",
              "93762               CAMPINAS                    APTO  REPUBLICANOS\n",
              "93763                 CAJATI                    APTO           PTB\n",
              "93764            SANTA LÚCIA                    APTO          PSDB\n",
              "93765           SUD MENNUCCI                    APTO  REPUBLICANOS\n",
              "93766              MORUNGABA                    APTO           DEM\n",
              "\n",
              "[93767 rows x 3 columns]"
            ]
          },
          "metadata": {
            "tags": []
          },
          "execution_count": 4
        }
      ]
    },
    {
      "cell_type": "code",
      "metadata": {
        "colab": {
          "base_uri": "https://localhost:8080/"
        },
        "id": "klLfxgIEzQzn",
        "outputId": "874bc193-9a73-4d11-af7a-c6cf8050c5a1"
      },
      "source": [
        "#Criando um DataFrame dos dados de 2016\n",
        "df_2016 = dados_SP_2016[\"SG_PARTIDO\"].value_counts()\n",
        "df_2016"
      ],
      "execution_count": 5,
      "outputs": [
        {
          "output_type": "execute_result",
          "data": {
            "text/plain": [
              "PSDB            7677\n",
              "PMDB            5954\n",
              "PTB             5439\n",
              "PV              4999\n",
              "PSD             4949\n",
              "DEM             4661\n",
              "PSB             4539\n",
              "PR              4065\n",
              "PPS             3919\n",
              "PRB             3656\n",
              "SD              3280\n",
              "PT              3205\n",
              "PDT             3041\n",
              "PP              2728\n",
              "PSC             2618\n",
              "PATRIOTA        2518\n",
              "PTN             2072\n",
              "PRP             2042\n",
              "PHS             1908\n",
              "PROS            1734\n",
              "PSL             1696\n",
              "PC do B         1466\n",
              "PSOL            1245\n",
              "PSDC            1235\n",
              "PTC             1028\n",
              "PRTB            1021\n",
              "PMB             1012\n",
              "PMN              903\n",
              "PT do B          850\n",
              "REDE             713\n",
              "PPL              444\n",
              "PSTU              56\n",
              "NOVO              45\n",
              "PCO               38\n",
              "MDB                7\n",
              "AVANTE             5\n",
              "PCB                4\n",
              "DC                 3\n",
              "PODE               2\n",
              "REPUBLICANOS       1\n",
              "PL                 1\n",
              "Name: SG_PARTIDO, dtype: int64"
            ]
          },
          "metadata": {
            "tags": []
          },
          "execution_count": 5
        }
      ]
    },
    {
      "cell_type": "markdown",
      "metadata": {
        "id": "i7dKoO77pmsb"
      },
      "source": [
        "***Este gráfico nos mostra a quantidade de filiados aos partidos políticos no ano de 2016***"
      ]
    },
    {
      "cell_type": "code",
      "metadata": {
        "colab": {
          "base_uri": "https://localhost:8080/",
          "height": 441
        },
        "id": "KWy-W-2eJSpm",
        "outputId": "f4423bcc-c86e-4f46-c388-052999921e3d"
      },
      "source": [
        "\n",
        "plt.figure(figsize=(15,5))\n",
        "sea.countplot(data=dados_SP_2016,x='SG_PARTIDO',order=dados_SP_2016.SG_PARTIDO.value_counts().index)\n",
        "plt.xticks(rotation=90)\n",
        "plt.ylabel('Quantidade de filiados aos partidos',fontsize=15)\n",
        "plt.xlabel('Partidos',fontsize=15)\n",
        "plt.title('Filiação aos partidos politicos no ano de 2016 em São Paulo (Eleições Municipais)',fontsize=15)"
      ],
      "execution_count": 6,
      "outputs": [
        {
          "output_type": "execute_result",
          "data": {
            "text/plain": [
              "Text(0.5, 1.0, 'Filiação aos partidos politicos no ano de 2016 em São Paulo (Eleições Municipais)')"
            ]
          },
          "metadata": {
            "tags": []
          },
          "execution_count": 6
        },
        {
          "output_type": "display_data",
          "data": {
            "image/png": "[encoded data removed]",
            "text/plain": [
              "<Figure size 1080x360 with 1 Axes>"
            ]
          },
          "metadata": {
            "tags": [],
            "needs_background": "light"
          }
        }
      ]
    },
    {
      "cell_type": "code",
      "metadata": {
        "colab": {
          "base_uri": "https://localhost:8080/"
        },
        "id": "eDCblZbb0jPe",
        "outputId": "540cecbc-f1a9-4adb-d625-abc36cf8762d"
      },
      "source": [
        "#Criando um DataFrame dos dados de 2020\n",
        "df_2020 = dados_SP_2020[\"SG_PARTIDO\"].value_counts()\n",
        "df_2020"
      ],
      "execution_count": 7,
      "outputs": [
        {
          "output_type": "execute_result",
          "data": {
            "text/plain": [
              "PSDB             8662\n",
              "DEM              6666\n",
              "MDB              6472\n",
              "PSD              5965\n",
              "PTB              5679\n",
              "REPUBLICANOS     5665\n",
              "PL               5329\n",
              "PODE             5226\n",
              "PSL              4330\n",
              "PP               3903\n",
              "PSB              3582\n",
              "PDT              3195\n",
              "PT               3190\n",
              "SOLIDARIEDADE    3187\n",
              "CIDADANIA        3182\n",
              "PATRIOTA         3137\n",
              "PV               2912\n",
              "AVANTE           2440\n",
              "PSC              2060\n",
              "PRTB             1978\n",
              "PROS             1241\n",
              "PTC              1023\n",
              "PC do B           984\n",
              "PSOL              951\n",
              "REDE              790\n",
              "PMN               635\n",
              "DC                584\n",
              "PMB               539\n",
              "NOVO              129\n",
              "PSTU               59\n",
              "PCO                56\n",
              "UP                 10\n",
              "PCB                 6\n",
              "Name: SG_PARTIDO, dtype: int64"
            ]
          },
          "metadata": {
            "tags": []
          },
          "execution_count": 7
        }
      ]
    },
    {
      "cell_type": "markdown",
      "metadata": {
        "id": "_kMziJmQp3cD"
      },
      "source": [
        "## ***Este gráfico nos mostra a quantidade de filiados aos partidos políticos no ano de 2020***"
      ]
    },
    {
      "cell_type": "code",
      "metadata": {
        "colab": {
          "base_uri": "https://localhost:8080/",
          "height": 445
        },
        "id": "a355JkX4suEZ",
        "outputId": "992adf53-fc21-448b-d9d9-679d2ffef70f"
      },
      "source": [
        "plt.figure(figsize=(15,5))\n",
        "sea.countplot(data=dados_SP_2020,x='SG_PARTIDO',order=dados_SP_2020.SG_PARTIDO.value_counts().index)\n",
        "plt.xticks(rotation=90)\n",
        "plt.ylabel('Quantidade de filiados aos partidos',fontsize=15)\n",
        "plt.xlabel('Partidos',fontsize=15)\n",
        "plt.title('Filiação aos partidos politicos no ano de 2020 em São Paulo (Eleições Municipais)',fontsize=15)"
      ],
      "execution_count": 8,
      "outputs": [
        {
          "output_type": "execute_result",
          "data": {
            "text/plain": [
              "Text(0.5, 1.0, 'Filiação aos partidos politicos no ano de 2020 em São Paulo (Eleições Municipais)')"
            ]
          },
          "metadata": {
            "tags": []
          },
          "execution_count": 8
        },
        {
          "output_type": "display_data",
          "data": {
            "image/png": "[encoded data removed]",
            "text/plain": [
              "<Figure size 1080x360 with 1 Axes>"
            ]
          },
          "metadata": {
            "tags": [],
            "needs_background": "light"
          }
        }
      ]
    },
    {
      "cell_type": "code",
      "metadata": {
        "colab": {
          "base_uri": "https://localhost:8080/"
        },
        "id": "TCla8clZCJW7",
        "outputId": "8366fb98-7094-415a-cd3e-ccd4819a0e84"
      },
      "source": [
        "#Utilizamos a biblioteca Counter para criar uma biblioteca a partir dos dados do DataFrame de 2016\n",
        "from collections import Counter\n",
        "dict_2016 = Counter(dados_SP_2016['SG_PARTIDO'])\n",
        "dict_2016"
      ],
      "execution_count": 9,
      "outputs": [
        {
          "output_type": "execute_result",
          "data": {
            "text/plain": [
              "Counter({'AVANTE': 5,\n",
              "         'DC': 3,\n",
              "         'DEM': 4661,\n",
              "         'MDB': 7,\n",
              "         'NOVO': 45,\n",
              "         'PATRIOTA': 2518,\n",
              "         'PC do B': 1466,\n",
              "         'PCB': 4,\n",
              "         'PCO': 38,\n",
              "         'PDT': 3041,\n",
              "         'PHS': 1908,\n",
              "         'PL': 1,\n",
              "         'PMB': 1012,\n",
              "         'PMDB': 5954,\n",
              "         'PMN': 903,\n",
              "         'PODE': 2,\n",
              "         'PP': 2728,\n",
              "         'PPL': 444,\n",
              "         'PPS': 3919,\n",
              "         'PR': 4065,\n",
              "         'PRB': 3656,\n",
              "         'PROS': 1734,\n",
              "         'PRP': 2042,\n",
              "         'PRTB': 1021,\n",
              "         'PSB': 4539,\n",
              "         'PSC': 2618,\n",
              "         'PSD': 4949,\n",
              "         'PSDB': 7677,\n",
              "         'PSDC': 1235,\n",
              "         'PSL': 1696,\n",
              "         'PSOL': 1245,\n",
              "         'PSTU': 56,\n",
              "         'PT': 3205,\n",
              "         'PT do B': 850,\n",
              "         'PTB': 5439,\n",
              "         'PTC': 1028,\n",
              "         'PTN': 2072,\n",
              "         'PV': 4999,\n",
              "         'REDE': 713,\n",
              "         'REPUBLICANOS': 1,\n",
              "         'SD': 3280})"
            ]
          },
          "metadata": {
            "tags": []
          },
          "execution_count": 9
        }
      ]
    },
    {
      "cell_type": "code",
      "metadata": {
        "colab": {
          "base_uri": "https://localhost:8080/"
        },
        "id": "8q5hWObHJ0kL",
        "outputId": "68ffd1ea-e0ee-4bbd-a5a2-00ae9e39f12a"
      },
      "source": [
        "#Utilizamos a biblioteca Counter para criar uma biblioteca a partir dos dados do DataFrame de 2020\n",
        "from collections import Counter\n",
        "dict_2020 = Counter(dados_SP_2020['SG_PARTIDO'])\n",
        "dict_2020"
      ],
      "execution_count": 10,
      "outputs": [
        {
          "output_type": "execute_result",
          "data": {
            "text/plain": [
              "Counter({'AVANTE': 2440,\n",
              "         'CIDADANIA': 3182,\n",
              "         'DC': 584,\n",
              "         'DEM': 6666,\n",
              "         'MDB': 6472,\n",
              "         'NOVO': 129,\n",
              "         'PATRIOTA': 3137,\n",
              "         'PC do B': 984,\n",
              "         'PCB': 6,\n",
              "         'PCO': 56,\n",
              "         'PDT': 3195,\n",
              "         'PL': 5329,\n",
              "         'PMB': 539,\n",
              "         'PMN': 635,\n",
              "         'PODE': 5226,\n",
              "         'PP': 3903,\n",
              "         'PROS': 1241,\n",
              "         'PRTB': 1978,\n",
              "         'PSB': 3582,\n",
              "         'PSC': 2060,\n",
              "         'PSD': 5965,\n",
              "         'PSDB': 8662,\n",
              "         'PSL': 4330,\n",
              "         'PSOL': 951,\n",
              "         'PSTU': 59,\n",
              "         'PT': 3190,\n",
              "         'PTB': 5679,\n",
              "         'PTC': 1023,\n",
              "         'PV': 2912,\n",
              "         'REDE': 790,\n",
              "         'REPUBLICANOS': 5665,\n",
              "         'SOLIDARIEDADE': 3187,\n",
              "         'UP': 10})"
            ]
          },
          "metadata": {
            "tags": []
          },
          "execution_count": 10
        }
      ]
    },
    {
      "cell_type": "code",
      "metadata": {
        "colab": {
          "base_uri": "https://localhost:8080/"
        },
        "id": "VkkPr1L5DRzm",
        "outputId": "5c35e038-8385-49d0-ef30-f2b518f9c6ee"
      },
      "source": [
        "partidos_2016 = list(dict_2016.keys())\n",
        "filiacoes_2016 = list(dict_2016.values())\n",
        "print(partidos_2016)\n",
        "print(filiacoes_2016)\n"
      ],
      "execution_count": 11,
      "outputs": [
        {
          "output_type": "stream",
          "text": [
            "['PV', 'PR', 'PTB', 'PATRIOTA', 'PSL', 'PSDB', 'PT', 'PSB', 'PDT', 'PPL', 'PPS', 'PRP', 'PC do B', 'DEM', 'PMN', 'PTN', 'SD', 'PSDC', 'PRB', 'PMB', 'PSD', 'PMDB', 'PROS', 'PSC', 'PTC', 'REDE', 'PSOL', 'PHS', 'PT do B', 'PRTB', 'PP', 'PSTU', 'NOVO', 'PCO', 'MDB', 'AVANTE', 'PCB', 'DC', 'PODE', 'PL', 'REPUBLICANOS']\n",
            "[4999, 4065, 5439, 2518, 1696, 7677, 3205, 4539, 3041, 444, 3919, 2042, 1466, 4661, 903, 2072, 3280, 1235, 3656, 1012, 4949, 5954, 1734, 2618, 1028, 713, 1245, 1908, 850, 1021, 2728, 56, 45, 38, 7, 5, 4, 3, 2, 1, 1]\n"
          ],
          "name": "stdout"
        }
      ]
    },
    {
      "cell_type": "code",
      "metadata": {
        "colab": {
          "base_uri": "https://localhost:8080/"
        },
        "id": "xpjafR8EQfE_",
        "outputId": "2b65d101-62d2-420f-c17b-3c3c4489f361"
      },
      "source": [
        "partidos_2020 = list(dict_2020.keys())\n",
        "filiacoes_2020 = list(dict_2020.values())\n",
        "print(partidos_2020)\n",
        "print(filiacoes_2020)"
      ],
      "execution_count": 12,
      "outputs": [
        {
          "output_type": "stream",
          "text": [
            "['PSD', 'REPUBLICANOS', 'PTB', 'PODE', 'AVANTE', 'PC do B', 'DEM', 'SOLIDARIEDADE', 'REDE', 'PSDB', 'PSC', 'PT', 'PDT', 'PSL', 'PATRIOTA', 'PROS', 'PRTB', 'PL', 'PMN', 'PV', 'PP', 'PSB', 'MDB', 'CIDADANIA', 'PMB', 'PCO', 'PTC', 'PSOL', 'DC', 'NOVO', 'PCB', 'PSTU', 'UP']\n",
            "[5965, 5665, 5679, 5226, 2440, 984, 6666, 3187, 790, 8662, 2060, 3190, 3195, 4330, 3137, 1241, 1978, 5329, 635, 2912, 3903, 3582, 6472, 3182, 539, 56, 1023, 951, 584, 129, 6, 59, 10]\n"
          ],
          "name": "stdout"
        }
      ]
    },
    {
      "cell_type": "code",
      "metadata": {
        "colab": {
          "base_uri": "https://localhost:8080/"
        },
        "id": "ntxzHI6_Qqps",
        "outputId": "446a84fb-22bf-4b69-f730-5f6d415aa1ca"
      },
      "source": [
        "#Aqui, criamos duas listas com os dados obtidos atraves de uma subtração da quantidade de filiados entre 2016 e 2020,\n",
        "#excluindo os partidos da qual não fazem mais parte das eleiçoes de 2020 \n",
        "#(extintas ou recriadas a partir de partidos antigos)\n",
        "sub = []\n",
        "sub2 = []\n",
        "for i in partidos_2020:\n",
        "  for j in partidos_2016:\n",
        "    if i==j:\n",
        "      sub2.append(i)\n",
        "      sub.append(filiacoes_2020[partidos_2020.index(i)]-filiacoes_2016[partidos_2016.index(j)])\n",
        "\n",
        "print(sub)\n",
        "print(sub2)\n"
      ],
      "execution_count": 13,
      "outputs": [
        {
          "output_type": "stream",
          "text": [
            "[1016, 5664, 240, 5224, 2435, -482, 2005, 77, 985, -558, -15, 154, 2634, 619, -493, 957, 5328, -268, -2087, 1175, -957, 6465, -473, 18, -5, -294, 581, 84, 2, 3]\n",
            "['PSD', 'REPUBLICANOS', 'PTB', 'PODE', 'AVANTE', 'PC do B', 'DEM', 'REDE', 'PSDB', 'PSC', 'PT', 'PDT', 'PSL', 'PATRIOTA', 'PROS', 'PRTB', 'PL', 'PMN', 'PV', 'PP', 'PSB', 'MDB', 'PMB', 'PCO', 'PTC', 'PSOL', 'DC', 'NOVO', 'PCB', 'PSTU']\n"
          ],
          "name": "stdout"
        }
      ]
    },
    {
      "cell_type": "code",
      "metadata": {
        "colab": {
          "base_uri": "https://localhost:8080/"
        },
        "id": "iSFT4cZ9VPWS",
        "outputId": "d16b1710-04b2-4c1d-e455-203243597374"
      },
      "source": [
        "#Com os dados acima, criamos novamente um dicionario para que possamos fazer as análises abaixo\n",
        "new_dict = {}\n",
        "  \n",
        "for i in range(len(sub)):\n",
        "  new_dict[sub2[i]] = sub[i]\n",
        "\n",
        "ordenado = {k: v for k, v in sorted(new_dict.items(), key=lambda item: item[1], reverse=True)}\n",
        "print(ordenado)\n"
      ],
      "execution_count": 14,
      "outputs": [
        {
          "output_type": "stream",
          "text": [
            "{'MDB': 6465, 'REPUBLICANOS': 5664, 'PL': 5328, 'PODE': 5224, 'PSL': 2634, 'AVANTE': 2435, 'DEM': 2005, 'PP': 1175, 'PSD': 1016, 'PSDB': 985, 'PRTB': 957, 'PATRIOTA': 619, 'DC': 581, 'PTB': 240, 'PDT': 154, 'NOVO': 84, 'REDE': 77, 'PCO': 18, 'PSTU': 3, 'PCB': 2, 'PTC': -5, 'PT': -15, 'PMN': -268, 'PSOL': -294, 'PMB': -473, 'PC do B': -482, 'PROS': -493, 'PSC': -558, 'PSB': -957, 'PV': -2087}\n"
          ],
          "name": "stdout"
        }
      ]
    },
    {
      "cell_type": "markdown",
      "metadata": {
        "id": "uqkLhvpUrJVp"
      },
      "source": [
        "***Análise: Observamos que partidos como MDB, REPUBLICANOS, PL, PODE, PSL, AVANTE, DEM, PP, PSD, PSDB,PRTB E PATRIOTA, tiveram um aumento significativos nessas eleições de 2020, já os partidos como, PMN, PT, PSOL, PMB, PC DO B, PROS, PSC, PSB E PV tiveram uma diminuição significativa de filiados ao partido em 2020 no município de SP.***"
      ]
    },
    {
      "cell_type": "code",
      "metadata": {
        "colab": {
          "base_uri": "https://localhost:8080/",
          "height": 424
        },
        "id": "ZpflgZ1GXPhB",
        "outputId": "488d5d62-abf2-4cea-d011-3431be4a90b3"
      },
      "source": [
        "plt.figure(figsize=(15,5))\n",
        "plt.plot_date(ordenado.keys(),ordenado.values())\n",
        "plt.xticks(rotation=90)\n",
        "plt.ylabel('Quantidade de filiados aos partidos',fontsize=15)\n",
        "plt.xlabel('Partidos',fontsize=15)\n",
        "plt.title('Filiação aos partidos politicos no ano de 2020 em São Paulo (Eleições Municipais)',fontsize=15)\n",
        "plt.show()\n"
      ],
      "execution_count": 15,
      "outputs": [
        {
          "output_type": "display_data",
          "data": {
            "image/png": "[encoded data removed]",
            "text/plain": [
              "<Figure size 1080x360 with 1 Axes>"
            ]
          },
          "metadata": {
            "tags": [],
            "needs_background": "light"
          }
        }
      ]
    }
  ]
}